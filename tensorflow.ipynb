{
 "cells": [
  {
   "cell_type": "markdown",
   "metadata": {},
   "source": [
    "# Tensorflow Neural Network\n",
    "A generic tensorflow library implementation of classification task using neural networks"
   ]
  },
  {
   "cell_type": "code",
   "execution_count": 1,
   "metadata": {},
   "outputs": [
    {
     "name": "stdout",
     "output_type": "stream",
     "text": [
      "WARNING:tensorflow:From c:\\Users\\Matthew\\AppData\\Local\\Programs\\Python\\Python311\\Lib\\site-packages\\keras\\src\\losses.py:2976: The name tf.losses.sparse_softmax_cross_entropy is deprecated. Please use tf.compat.v1.losses.sparse_softmax_cross_entropy instead.\n",
      "\n",
      "WARNING:tensorflow:From c:\\Users\\Matthew\\AppData\\Local\\Programs\\Python\\Python311\\Lib\\site-packages\\keras\\src\\backend.py:277: The name tf.reset_default_graph is deprecated. Please use tf.compat.v1.reset_default_graph instead.\n",
      "\n"
     ]
    }
   ],
   "source": [
    "import tensorflow as tf\n",
    "from tensorflow import keras\n",
    "import numpy as np\n",
    "\n",
    "keras.backend.clear_session()"
   ]
  },
  {
   "cell_type": "markdown",
   "metadata": {},
   "source": [
    "# Creating the Model\n",
    "We create a sequential neural model with three layers"
   ]
  },
  {
   "cell_type": "code",
   "execution_count": 2,
   "metadata": {},
   "outputs": [
    {
     "name": "stdout",
     "output_type": "stream",
     "text": [
      "WARNING:tensorflow:From c:\\Users\\Matthew\\AppData\\Local\\Programs\\Python\\Python311\\Lib\\site-packages\\keras\\src\\optimizers\\__init__.py:309: The name tf.train.Optimizer is deprecated. Please use tf.compat.v1.train.Optimizer instead.\n",
      "\n"
     ]
    }
   ],
   "source": [
    "model = keras.Sequential()\n",
    "model.add(keras.layers.Dense(10, input_dim = 4, activation=\"relu\"))\n",
    "model.add(keras.layers.Dense(10, input_dim = 4, activation=\"relu\"))\n",
    "model.add(keras.layers.Dense(3)) # Output\n",
    "\n",
    "model.compile(loss=\"categorical_crossentropy\", optimizer=\"adam\", metrics=['accuracy','mse'])"
   ]
  },
  {
   "cell_type": "code",
   "execution_count": 3,
   "metadata": {},
   "outputs": [
    {
     "name": "stdout",
     "output_type": "stream",
     "text": [
      "Model: \"sequential\"\n",
      "_________________________________________________________________\n",
      " Layer (type)                Output Shape              Param #   \n",
      "=================================================================\n",
      " dense (Dense)               (None, 10)                50        \n",
      "                                                                 \n",
      " dense_1 (Dense)             (None, 10)                110       \n",
      "                                                                 \n",
      " dense_2 (Dense)             (None, 3)                 33        \n",
      "                                                                 \n",
      "=================================================================\n",
      "Total params: 193 (772.00 Byte)\n",
      "Trainable params: 193 (772.00 Byte)\n",
      "Non-trainable params: 0 (0.00 Byte)\n",
      "_________________________________________________________________\n"
     ]
    }
   ],
   "source": [
    "model.summary()"
   ]
  },
  {
   "cell_type": "markdown",
   "metadata": {},
   "source": [
    "# Dataset\n",
    "We use the iris dataset to perform a classification"
   ]
  },
  {
   "cell_type": "code",
   "execution_count": 4,
   "metadata": {},
   "outputs": [],
   "source": [
    "from sklearn.datasets import load_iris\n",
    "iris = load_iris()\n",
    "X = iris.data\n",
    "y = iris.target"
   ]
  },
  {
   "cell_type": "code",
   "execution_count": 5,
   "metadata": {},
   "outputs": [
    {
     "data": {
      "text/plain": [
       "array([[1., 0., 0.],\n",
       "       [1., 0., 0.],\n",
       "       [1., 0., 0.],\n",
       "       [1., 0., 0.],\n",
       "       [1., 0., 0.],\n",
       "       [1., 0., 0.],\n",
       "       [1., 0., 0.],\n",
       "       [1., 0., 0.],\n",
       "       [1., 0., 0.],\n",
       "       [1., 0., 0.],\n",
       "       [1., 0., 0.],\n",
       "       [1., 0., 0.],\n",
       "       [1., 0., 0.],\n",
       "       [1., 0., 0.],\n",
       "       [1., 0., 0.],\n",
       "       [1., 0., 0.],\n",
       "       [1., 0., 0.],\n",
       "       [1., 0., 0.],\n",
       "       [1., 0., 0.],\n",
       "       [1., 0., 0.],\n",
       "       [1., 0., 0.],\n",
       "       [1., 0., 0.],\n",
       "       [1., 0., 0.],\n",
       "       [1., 0., 0.],\n",
       "       [1., 0., 0.],\n",
       "       [1., 0., 0.],\n",
       "       [1., 0., 0.],\n",
       "       [1., 0., 0.],\n",
       "       [1., 0., 0.],\n",
       "       [1., 0., 0.],\n",
       "       [1., 0., 0.],\n",
       "       [1., 0., 0.],\n",
       "       [1., 0., 0.],\n",
       "       [1., 0., 0.],\n",
       "       [1., 0., 0.],\n",
       "       [1., 0., 0.],\n",
       "       [1., 0., 0.],\n",
       "       [1., 0., 0.],\n",
       "       [1., 0., 0.],\n",
       "       [1., 0., 0.],\n",
       "       [1., 0., 0.],\n",
       "       [1., 0., 0.],\n",
       "       [1., 0., 0.],\n",
       "       [1., 0., 0.],\n",
       "       [1., 0., 0.],\n",
       "       [1., 0., 0.],\n",
       "       [1., 0., 0.],\n",
       "       [1., 0., 0.],\n",
       "       [1., 0., 0.],\n",
       "       [1., 0., 0.],\n",
       "       [0., 1., 0.],\n",
       "       [0., 1., 0.],\n",
       "       [0., 1., 0.],\n",
       "       [0., 1., 0.],\n",
       "       [0., 1., 0.],\n",
       "       [0., 1., 0.],\n",
       "       [0., 1., 0.],\n",
       "       [0., 1., 0.],\n",
       "       [0., 1., 0.],\n",
       "       [0., 1., 0.],\n",
       "       [0., 1., 0.],\n",
       "       [0., 1., 0.],\n",
       "       [0., 1., 0.],\n",
       "       [0., 1., 0.],\n",
       "       [0., 1., 0.],\n",
       "       [0., 1., 0.],\n",
       "       [0., 1., 0.],\n",
       "       [0., 1., 0.],\n",
       "       [0., 1., 0.],\n",
       "       [0., 1., 0.],\n",
       "       [0., 1., 0.],\n",
       "       [0., 1., 0.],\n",
       "       [0., 1., 0.],\n",
       "       [0., 1., 0.],\n",
       "       [0., 1., 0.],\n",
       "       [0., 1., 0.],\n",
       "       [0., 1., 0.],\n",
       "       [0., 1., 0.],\n",
       "       [0., 1., 0.],\n",
       "       [0., 1., 0.],\n",
       "       [0., 1., 0.],\n",
       "       [0., 1., 0.],\n",
       "       [0., 1., 0.],\n",
       "       [0., 1., 0.],\n",
       "       [0., 1., 0.],\n",
       "       [0., 1., 0.],\n",
       "       [0., 1., 0.],\n",
       "       [0., 1., 0.],\n",
       "       [0., 1., 0.],\n",
       "       [0., 1., 0.],\n",
       "       [0., 1., 0.],\n",
       "       [0., 1., 0.],\n",
       "       [0., 1., 0.],\n",
       "       [0., 1., 0.],\n",
       "       [0., 1., 0.],\n",
       "       [0., 1., 0.],\n",
       "       [0., 1., 0.],\n",
       "       [0., 1., 0.],\n",
       "       [0., 1., 0.],\n",
       "       [0., 1., 0.],\n",
       "       [0., 0., 1.],\n",
       "       [0., 0., 1.],\n",
       "       [0., 0., 1.],\n",
       "       [0., 0., 1.],\n",
       "       [0., 0., 1.],\n",
       "       [0., 0., 1.],\n",
       "       [0., 0., 1.],\n",
       "       [0., 0., 1.],\n",
       "       [0., 0., 1.],\n",
       "       [0., 0., 1.],\n",
       "       [0., 0., 1.],\n",
       "       [0., 0., 1.],\n",
       "       [0., 0., 1.],\n",
       "       [0., 0., 1.],\n",
       "       [0., 0., 1.],\n",
       "       [0., 0., 1.],\n",
       "       [0., 0., 1.],\n",
       "       [0., 0., 1.],\n",
       "       [0., 0., 1.],\n",
       "       [0., 0., 1.],\n",
       "       [0., 0., 1.],\n",
       "       [0., 0., 1.],\n",
       "       [0., 0., 1.],\n",
       "       [0., 0., 1.],\n",
       "       [0., 0., 1.],\n",
       "       [0., 0., 1.],\n",
       "       [0., 0., 1.],\n",
       "       [0., 0., 1.],\n",
       "       [0., 0., 1.],\n",
       "       [0., 0., 1.],\n",
       "       [0., 0., 1.],\n",
       "       [0., 0., 1.],\n",
       "       [0., 0., 1.],\n",
       "       [0., 0., 1.],\n",
       "       [0., 0., 1.],\n",
       "       [0., 0., 1.],\n",
       "       [0., 0., 1.],\n",
       "       [0., 0., 1.],\n",
       "       [0., 0., 1.],\n",
       "       [0., 0., 1.],\n",
       "       [0., 0., 1.],\n",
       "       [0., 0., 1.],\n",
       "       [0., 0., 1.],\n",
       "       [0., 0., 1.],\n",
       "       [0., 0., 1.],\n",
       "       [0., 0., 1.],\n",
       "       [0., 0., 1.],\n",
       "       [0., 0., 1.],\n",
       "       [0., 0., 1.],\n",
       "       [0., 0., 1.]], dtype=float32)"
      ]
     },
     "execution_count": 5,
     "metadata": {},
     "output_type": "execute_result"
    }
   ],
   "source": [
    "from keras.utils import to_categorical\n",
    "y = to_categorical(y)\n",
    "y"
   ]
  },
  {
   "cell_type": "code",
   "execution_count": 6,
   "metadata": {},
   "outputs": [],
   "source": [
    "from sklearn.model_selection import train_test_split\n",
    "\n",
    "X_train, X_test, y_train, y_test = train_test_split(X, y, train_size=0.8, test_size=0.2, random_state=42)"
   ]
  },
  {
   "cell_type": "code",
   "execution_count": 7,
   "metadata": {},
   "outputs": [],
   "source": [
    "from sklearn.preprocessing import MinMaxScaler\n",
    "\n",
    "scaler = MinMaxScaler()\n",
    "\n",
    "scaler.fit(X_train)\n",
    "X_train = scaler.transform(X_train)\n",
    "X_test = scaler.transform(X_test)"
   ]
  },
  {
   "cell_type": "markdown",
   "metadata": {},
   "source": [
    "# Evaluating\n",
    "Fitting the data to the model and performing predictions"
   ]
  },
  {
   "cell_type": "code",
   "execution_count": 8,
   "metadata": {},
   "outputs": [
    {
     "name": "stdout",
     "output_type": "stream",
     "text": [
      "Epoch 1/100\n",
      "WARNING:tensorflow:From c:\\Users\\Matthew\\AppData\\Local\\Programs\\Python\\Python311\\Lib\\site-packages\\keras\\src\\utils\\tf_utils.py:492: The name tf.ragged.RaggedTensorValue is deprecated. Please use tf.compat.v1.ragged.RaggedTensorValue instead.\n",
      "\n",
      "WARNING:tensorflow:From c:\\Users\\Matthew\\AppData\\Local\\Programs\\Python\\Python311\\Lib\\site-packages\\keras\\src\\engine\\base_layer_utils.py:384: The name tf.executing_eagerly_outside_functions is deprecated. Please use tf.compat.v1.executing_eagerly_outside_functions instead.\n",
      "\n",
      "4/4 [==============================] - 1s 6ms/step - loss: 0.1156 - accuracy: 0.3250 - mse: 0.2914\n",
      "Epoch 2/100\n",
      "4/4 [==============================] - 0s 2ms/step - loss: 0.0212 - accuracy: 0.3250 - mse: 0.2939\n",
      "Epoch 3/100\n",
      "4/4 [==============================] - 0s 4ms/step - loss: 0.0016 - accuracy: 0.3250 - mse: 0.2976\n",
      "Epoch 4/100\n",
      "4/4 [==============================] - 0s 3ms/step - loss: 0.4039 - accuracy: 0.3250 - mse: 0.3004\n",
      "Epoch 5/100\n",
      "4/4 [==============================] - 0s 2ms/step - loss: 0.9407 - accuracy: 0.3250 - mse: 0.3023\n",
      "Epoch 6/100\n",
      "4/4 [==============================] - 0s 2ms/step - loss: 1.3432 - accuracy: 0.3250 - mse: 0.3036\n",
      "Epoch 7/100\n",
      "4/4 [==============================] - 0s 5ms/step - loss: 1.4775 - accuracy: 0.3250 - mse: 0.3045\n",
      "Epoch 8/100\n",
      "4/4 [==============================] - 0s 3ms/step - loss: 1.6118 - accuracy: 0.3333 - mse: 0.3051\n",
      "Epoch 9/100\n",
      "4/4 [==============================] - 0s 4ms/step - loss: 1.6118 - accuracy: 0.3333 - mse: 0.3055\n",
      "Epoch 10/100\n",
      "4/4 [==============================] - 0s 0s/step - loss: 1.8804 - accuracy: 0.3417 - mse: 0.3059\n",
      "Epoch 11/100\n",
      "4/4 [==============================] - 0s 4ms/step - loss: 1.8804 - accuracy: 0.3417 - mse: 0.3061\n",
      "Epoch 12/100\n",
      "4/4 [==============================] - 0s 3ms/step - loss: 1.8804 - accuracy: 0.3417 - mse: 0.3062\n",
      "Epoch 13/100\n",
      "4/4 [==============================] - 0s 4ms/step - loss: 1.8804 - accuracy: 0.3417 - mse: 0.3063\n",
      "Epoch 14/100\n",
      "4/4 [==============================] - 0s 3ms/step - loss: 2.0148 - accuracy: 0.3417 - mse: 0.3064\n",
      "Epoch 15/100\n",
      "4/4 [==============================] - 0s 0s/step - loss: 2.0148 - accuracy: 0.3417 - mse: 0.3064\n",
      "Epoch 16/100\n",
      "4/4 [==============================] - 0s 2ms/step - loss: 2.0148 - accuracy: 0.3417 - mse: 0.3064\n",
      "Epoch 17/100\n",
      "4/4 [==============================] - 0s 2ms/step - loss: 2.0148 - accuracy: 0.3417 - mse: 0.3065\n",
      "Epoch 18/100\n",
      "4/4 [==============================] - 0s 2ms/step - loss: 2.0148 - accuracy: 0.3417 - mse: 0.3065\n",
      "Epoch 19/100\n",
      "4/4 [==============================] - 0s 2ms/step - loss: 2.0148 - accuracy: 0.3417 - mse: 0.3065\n",
      "Epoch 20/100\n",
      "4/4 [==============================] - 0s 3ms/step - loss: 2.0148 - accuracy: 0.3417 - mse: 0.3065\n",
      "Epoch 21/100\n",
      "4/4 [==============================] - 0s 3ms/step - loss: 2.0148 - accuracy: 0.3417 - mse: 0.3065\n",
      "Epoch 22/100\n",
      "4/4 [==============================] - 0s 0s/step - loss: 2.0148 - accuracy: 0.3417 - mse: 0.3065\n",
      "Epoch 23/100\n",
      "4/4 [==============================] - 0s 2ms/step - loss: 2.0148 - accuracy: 0.3417 - mse: 0.3065\n",
      "Epoch 24/100\n",
      "4/4 [==============================] - 0s 5ms/step - loss: 2.0148 - accuracy: 0.3417 - mse: 0.3065\n",
      "Epoch 25/100\n",
      "4/4 [==============================] - 0s 5ms/step - loss: 2.0148 - accuracy: 0.3417 - mse: 0.3065\n",
      "Epoch 26/100\n",
      "4/4 [==============================] - 0s 5ms/step - loss: 2.0148 - accuracy: 0.3417 - mse: 0.3065\n",
      "Epoch 27/100\n",
      "4/4 [==============================] - 0s 3ms/step - loss: 2.0148 - accuracy: 0.3417 - mse: 0.3065\n",
      "Epoch 28/100\n",
      "4/4 [==============================] - 0s 3ms/step - loss: 2.0148 - accuracy: 0.3417 - mse: 0.3065\n",
      "Epoch 29/100\n",
      "4/4 [==============================] - 0s 1ms/step - loss: 2.0148 - accuracy: 0.3417 - mse: 0.3065\n",
      "Epoch 30/100\n",
      "4/4 [==============================] - 0s 6ms/step - loss: 2.0148 - accuracy: 0.3417 - mse: 0.3065\n",
      "Epoch 31/100\n",
      "4/4 [==============================] - 0s 4ms/step - loss: 2.0148 - accuracy: 0.3417 - mse: 0.3065\n",
      "Epoch 32/100\n",
      "4/4 [==============================] - 0s 0s/step - loss: 2.0148 - accuracy: 0.3417 - mse: 0.3065\n",
      "Epoch 33/100\n",
      "4/4 [==============================] - 0s 1ms/step - loss: 2.0148 - accuracy: 0.3417 - mse: 0.3065\n",
      "Epoch 34/100\n",
      "4/4 [==============================] - 0s 2ms/step - loss: 2.0148 - accuracy: 0.3417 - mse: 0.3065\n",
      "Epoch 35/100\n",
      "4/4 [==============================] - 0s 2ms/step - loss: 2.0148 - accuracy: 0.3417 - mse: 0.3065\n",
      "Epoch 36/100\n",
      "4/4 [==============================] - 0s 5ms/step - loss: 2.0148 - accuracy: 0.3417 - mse: 0.3065\n",
      "Epoch 37/100\n",
      "4/4 [==============================] - 0s 3ms/step - loss: 2.0148 - accuracy: 0.3417 - mse: 0.3065\n",
      "Epoch 38/100\n",
      "4/4 [==============================] - 0s 1ms/step - loss: 2.0148 - accuracy: 0.3417 - mse: 0.3065\n",
      "Epoch 39/100\n",
      "4/4 [==============================] - 0s 2ms/step - loss: 2.0148 - accuracy: 0.3417 - mse: 0.3065\n",
      "Epoch 40/100\n",
      "4/4 [==============================] - 0s 2ms/step - loss: 2.0148 - accuracy: 0.3417 - mse: 0.3065\n",
      "Epoch 41/100\n",
      "4/4 [==============================] - 0s 5ms/step - loss: 2.0148 - accuracy: 0.3417 - mse: 0.3065\n",
      "Epoch 42/100\n",
      "4/4 [==============================] - 0s 4ms/step - loss: 2.0148 - accuracy: 0.3417 - mse: 0.3065\n",
      "Epoch 43/100\n",
      "4/4 [==============================] - 0s 4ms/step - loss: 2.0148 - accuracy: 0.3417 - mse: 0.3065\n",
      "Epoch 44/100\n",
      "4/4 [==============================] - 0s 2ms/step - loss: 2.0148 - accuracy: 0.3417 - mse: 0.3065\n",
      "Epoch 45/100\n",
      "4/4 [==============================] - 0s 2ms/step - loss: 2.0148 - accuracy: 0.3417 - mse: 0.3065\n",
      "Epoch 46/100\n",
      "4/4 [==============================] - 0s 6ms/step - loss: 2.0148 - accuracy: 0.3417 - mse: 0.3065\n",
      "Epoch 47/100\n",
      "4/4 [==============================] - 0s 4ms/step - loss: 2.0148 - accuracy: 0.3417 - mse: 0.3065\n",
      "Epoch 48/100\n",
      "4/4 [==============================] - 0s 0s/step - loss: 2.0148 - accuracy: 0.3417 - mse: 0.3065\n",
      "Epoch 49/100\n",
      "4/4 [==============================] - 0s 0s/step - loss: 2.0148 - accuracy: 0.3417 - mse: 0.3065\n",
      "Epoch 50/100\n",
      "4/4 [==============================] - 0s 0s/step - loss: 2.0148 - accuracy: 0.3417 - mse: 0.3065\n",
      "Epoch 51/100\n",
      "4/4 [==============================] - 0s 2ms/step - loss: 2.0148 - accuracy: 0.3417 - mse: 0.3065\n",
      "Epoch 52/100\n",
      "4/4 [==============================] - 0s 3ms/step - loss: 2.0148 - accuracy: 0.3417 - mse: 0.3065\n",
      "Epoch 53/100\n",
      "4/4 [==============================] - 0s 4ms/step - loss: 2.0148 - accuracy: 0.3417 - mse: 0.3065\n",
      "Epoch 54/100\n",
      "4/4 [==============================] - 0s 3ms/step - loss: 2.0148 - accuracy: 0.3417 - mse: 0.3065\n",
      "Epoch 55/100\n",
      "4/4 [==============================] - 0s 3ms/step - loss: 2.0148 - accuracy: 0.3417 - mse: 0.3065\n",
      "Epoch 56/100\n",
      "4/4 [==============================] - 0s 3ms/step - loss: 2.0148 - accuracy: 0.3417 - mse: 0.3065\n",
      "Epoch 57/100\n",
      "4/4 [==============================] - 0s 3ms/step - loss: 2.0148 - accuracy: 0.3417 - mse: 0.3065\n",
      "Epoch 58/100\n",
      "4/4 [==============================] - 0s 4ms/step - loss: 2.0148 - accuracy: 0.3417 - mse: 0.3065\n",
      "Epoch 59/100\n",
      "4/4 [==============================] - 0s 3ms/step - loss: 2.0148 - accuracy: 0.3417 - mse: 0.3065\n",
      "Epoch 60/100\n",
      "4/4 [==============================] - 0s 3ms/step - loss: 2.0148 - accuracy: 0.3417 - mse: 0.3065\n",
      "Epoch 61/100\n",
      "4/4 [==============================] - 0s 4ms/step - loss: 2.0148 - accuracy: 0.3417 - mse: 0.3065\n",
      "Epoch 62/100\n",
      "4/4 [==============================] - 0s 3ms/step - loss: 2.0148 - accuracy: 0.3417 - mse: 0.3065\n",
      "Epoch 63/100\n",
      "4/4 [==============================] - 0s 3ms/step - loss: 2.0148 - accuracy: 0.3417 - mse: 0.3065\n",
      "Epoch 64/100\n",
      "4/4 [==============================] - 0s 3ms/step - loss: 2.0148 - accuracy: 0.3417 - mse: 0.3065\n",
      "Epoch 65/100\n",
      "4/4 [==============================] - 0s 2ms/step - loss: 2.0148 - accuracy: 0.3417 - mse: 0.3065\n",
      "Epoch 66/100\n",
      "4/4 [==============================] - 0s 5ms/step - loss: 2.0148 - accuracy: 0.3417 - mse: 0.3065\n",
      "Epoch 67/100\n",
      "4/4 [==============================] - 0s 6ms/step - loss: 2.0148 - accuracy: 0.3417 - mse: 0.3065\n",
      "Epoch 68/100\n",
      "4/4 [==============================] - 0s 4ms/step - loss: 2.0148 - accuracy: 0.3417 - mse: 0.3065\n",
      "Epoch 69/100\n",
      "4/4 [==============================] - 0s 3ms/step - loss: 2.0148 - accuracy: 0.3417 - mse: 0.3065\n",
      "Epoch 70/100\n",
      "4/4 [==============================] - 0s 0s/step - loss: 2.0148 - accuracy: 0.3417 - mse: 0.3065\n",
      "Epoch 71/100\n",
      "4/4 [==============================] - 0s 3ms/step - loss: 2.0148 - accuracy: 0.3417 - mse: 0.3065\n",
      "Epoch 72/100\n",
      "4/4 [==============================] - 0s 2ms/step - loss: 2.0148 - accuracy: 0.3417 - mse: 0.3065\n",
      "Epoch 73/100\n",
      "4/4 [==============================] - 0s 2ms/step - loss: 2.0148 - accuracy: 0.3417 - mse: 0.3065\n",
      "Epoch 74/100\n",
      "4/4 [==============================] - 0s 4ms/step - loss: 2.0148 - accuracy: 0.3417 - mse: 0.3065\n",
      "Epoch 75/100\n",
      "4/4 [==============================] - 0s 3ms/step - loss: 2.0148 - accuracy: 0.3417 - mse: 0.3065\n",
      "Epoch 76/100\n",
      "4/4 [==============================] - 0s 0s/step - loss: 2.0148 - accuracy: 0.3417 - mse: 0.3065\n",
      "Epoch 77/100\n",
      "4/4 [==============================] - 0s 2ms/step - loss: 2.0148 - accuracy: 0.3417 - mse: 0.3065\n",
      "Epoch 78/100\n",
      "4/4 [==============================] - 0s 3ms/step - loss: 2.0148 - accuracy: 0.3417 - mse: 0.3065\n",
      "Epoch 79/100\n",
      "4/4 [==============================] - 0s 2ms/step - loss: 2.0148 - accuracy: 0.3417 - mse: 0.3065\n",
      "Epoch 80/100\n",
      "4/4 [==============================] - 0s 0s/step - loss: 2.0148 - accuracy: 0.3417 - mse: 0.3065\n",
      "Epoch 81/100\n",
      "4/4 [==============================] - 0s 2ms/step - loss: 2.0148 - accuracy: 0.3417 - mse: 0.3065\n",
      "Epoch 82/100\n",
      "4/4 [==============================] - 0s 3ms/step - loss: 2.0148 - accuracy: 0.3417 - mse: 0.3065\n",
      "Epoch 83/100\n",
      "4/4 [==============================] - 0s 5ms/step - loss: 2.0148 - accuracy: 0.3417 - mse: 0.3065\n",
      "Epoch 84/100\n",
      "4/4 [==============================] - 0s 6ms/step - loss: 2.0148 - accuracy: 0.3417 - mse: 0.3065\n",
      "Epoch 85/100\n",
      "4/4 [==============================] - 0s 4ms/step - loss: 2.0148 - accuracy: 0.3417 - mse: 0.3065\n",
      "Epoch 86/100\n",
      "4/4 [==============================] - 0s 12ms/step - loss: 2.0148 - accuracy: 0.3417 - mse: 0.3065\n",
      "Epoch 87/100\n",
      "4/4 [==============================] - 0s 3ms/step - loss: 2.0148 - accuracy: 0.3417 - mse: 0.3065\n",
      "Epoch 88/100\n",
      "4/4 [==============================] - 0s 5ms/step - loss: 2.0148 - accuracy: 0.3417 - mse: 0.3065\n",
      "Epoch 89/100\n",
      "4/4 [==============================] - 0s 3ms/step - loss: 2.0148 - accuracy: 0.3417 - mse: 0.3065\n",
      "Epoch 90/100\n",
      "4/4 [==============================] - 0s 3ms/step - loss: 2.0148 - accuracy: 0.3417 - mse: 0.3065\n",
      "Epoch 91/100\n",
      "4/4 [==============================] - 0s 3ms/step - loss: 2.0148 - accuracy: 0.3417 - mse: 0.3065\n",
      "Epoch 92/100\n",
      "4/4 [==============================] - 0s 3ms/step - loss: 2.0148 - accuracy: 0.3417 - mse: 0.3065\n",
      "Epoch 93/100\n",
      "4/4 [==============================] - 0s 3ms/step - loss: 2.0148 - accuracy: 0.3417 - mse: 0.3065\n",
      "Epoch 94/100\n",
      "4/4 [==============================] - 0s 3ms/step - loss: 2.0148 - accuracy: 0.3417 - mse: 0.3065\n",
      "Epoch 95/100\n",
      "4/4 [==============================] - 0s 2ms/step - loss: 2.0148 - accuracy: 0.3417 - mse: 0.3065\n",
      "Epoch 96/100\n",
      "4/4 [==============================] - 0s 2ms/step - loss: 2.0148 - accuracy: 0.3417 - mse: 0.3065\n",
      "Epoch 97/100\n",
      "4/4 [==============================] - 0s 3ms/step - loss: 2.0148 - accuracy: 0.3417 - mse: 0.3065\n",
      "Epoch 98/100\n",
      "4/4 [==============================] - 0s 3ms/step - loss: 2.0148 - accuracy: 0.3417 - mse: 0.3065\n",
      "Epoch 99/100\n",
      "4/4 [==============================] - 0s 3ms/step - loss: 2.0148 - accuracy: 0.3417 - mse: 0.3065\n",
      "Epoch 100/100\n",
      "4/4 [==============================] - 0s 3ms/step - loss: 2.0148 - accuracy: 0.3417 - mse: 0.3065\n"
     ]
    },
    {
     "data": {
      "text/plain": [
       "<keras.src.callbacks.History at 0x22ce4f2a790>"
      ]
     },
     "execution_count": 8,
     "metadata": {},
     "output_type": "execute_result"
    }
   ],
   "source": [
    "model.fit(X_train, y_train, epochs=100)"
   ]
  },
  {
   "cell_type": "code",
   "execution_count": 9,
   "metadata": {},
   "outputs": [
    {
     "name": "stdout",
     "output_type": "stream",
     "text": [
      "1/1 [==============================] - 0s 236ms/step - loss: 1.6118 - accuracy: 0.3667 - mse: 0.3019\n"
     ]
    },
    {
     "data": {
      "text/plain": [
       "[1.611809492111206, 0.36666667461395264, 0.30190688371658325]"
      ]
     },
     "execution_count": 9,
     "metadata": {},
     "output_type": "execute_result"
    }
   ],
   "source": [
    "model.evaluate(X_test, y_test)"
   ]
  },
  {
   "cell_type": "code",
   "execution_count": 10,
   "metadata": {},
   "outputs": [
    {
     "name": "stdout",
     "output_type": "stream",
     "text": [
      "1/1 [==============================] - 0s 85ms/step\n"
     ]
    },
    {
     "data": {
      "text/plain": [
       "array([[-0.2226102 ,  0.09563205,  0.12615414],\n",
       "       [-0.05973829,  0.05525262, -0.04003576],\n",
       "       [-0.33064198,  0.17182815,  0.2881981 ],\n",
       "       [-0.19987053,  0.09215912,  0.11972151],\n",
       "       [-0.26318306,  0.12390835,  0.18407692],\n",
       "       [-0.05567241,  0.04433105, -0.03359465],\n",
       "       [-0.14258067,  0.06726323,  0.07046245],\n",
       "       [-0.24486294,  0.1338878 ,  0.20375481],\n",
       "       [-0.19556057,  0.10689768,  0.16093121],\n",
       "       [-0.18217823,  0.08382298,  0.10449373],\n",
       "       [-0.22338559,  0.11034253,  0.15457566],\n",
       "       [-0.04721611,  0.04611145, -0.03190525],\n",
       "       [-0.0430136 ,  0.05682261, -0.0374844 ],\n",
       "       [-0.05201454,  0.04688117, -0.0333067 ],\n",
       "       [-0.06093668,  0.06857578, -0.04589558],\n",
       "       [-0.19828986,  0.08930365,  0.1106128 ],\n",
       "       [-0.26153994,  0.12756383,  0.19052632],\n",
       "       [-0.17921032,  0.08197213,  0.10226396],\n",
       "       [-0.19404782,  0.08231185,  0.10009513],\n",
       "       [-0.25952753,  0.13080613,  0.19906065],\n",
       "       [-0.05879175,  0.04856309, -0.03498939],\n",
       "       [-0.20931168,  0.09950003,  0.13413157],\n",
       "       [-0.06624714,  0.05100115, -0.03828144],\n",
       "       [-0.26205838,  0.12922217,  0.19549279],\n",
       "       [-0.32294592,  0.14622259,  0.21917365],\n",
       "       [-0.24407752,  0.13164431,  0.19998947],\n",
       "       [-0.25485778,  0.12948251,  0.20174718],\n",
       "       [-0.26804578,  0.13238652,  0.19867723],\n",
       "       [-0.05954819,  0.04270096, -0.03272083],\n",
       "       [-0.06276833,  0.04365415, -0.03358322]], dtype=float32)"
      ]
     },
     "execution_count": 10,
     "metadata": {},
     "output_type": "execute_result"
    }
   ],
   "source": [
    "y_pred = model.predict(X_test)\n",
    "y_pred"
   ]
  },
  {
   "cell_type": "code",
   "execution_count": 11,
   "metadata": {},
   "outputs": [
    {
     "data": {
      "text/plain": [
       "array([2, 1, 2, 2, 2, 1, 2, 2, 2, 2, 2, 1, 1, 1, 1, 2, 2, 2, 2, 2, 1, 2,\n",
       "       1, 2, 2, 2, 2, 2, 1, 1], dtype=int64)"
      ]
     },
     "execution_count": 11,
     "metadata": {},
     "output_type": "execute_result"
    }
   ],
   "source": [
    "y_pred = np.argmax(y_pred, axis=1)\n",
    "y_pred"
   ]
  },
  {
   "cell_type": "code",
   "execution_count": 12,
   "metadata": {},
   "outputs": [
    {
     "data": {
      "text/plain": [
       "array([1, 0, 2, 1, 1, 0, 1, 2, 1, 1, 2, 0, 0, 0, 0, 1, 2, 1, 1, 2, 0, 2,\n",
       "       0, 2, 2, 2, 2, 2, 0, 0], dtype=int64)"
      ]
     },
     "execution_count": 12,
     "metadata": {},
     "output_type": "execute_result"
    }
   ],
   "source": [
    "y_test = np.argmax(y_test, axis=1)\n",
    "y_test"
   ]
  },
  {
   "cell_type": "code",
   "execution_count": 13,
   "metadata": {},
   "outputs": [
    {
     "data": {
      "text/plain": [
       "36.666666666666664"
      ]
     },
     "execution_count": 13,
     "metadata": {},
     "output_type": "execute_result"
    }
   ],
   "source": [
    "from sklearn.metrics import accuracy_score\n",
    "accuracy_score(y_test, y_pred)*100"
   ]
  }
 ],
 "metadata": {
  "kernelspec": {
   "display_name": "Python 3",
   "language": "python",
   "name": "python3"
  },
  "language_info": {
   "codemirror_mode": {
    "name": "ipython",
    "version": 3
   },
   "file_extension": ".py",
   "mimetype": "text/x-python",
   "name": "python",
   "nbconvert_exporter": "python",
   "pygments_lexer": "ipython3",
   "version": "3.11.1"
  }
 },
 "nbformat": 4,
 "nbformat_minor": 2
}
