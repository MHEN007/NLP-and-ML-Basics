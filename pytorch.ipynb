{
 "cells": [
  {
   "cell_type": "markdown",
   "metadata": {},
   "source": [
    "# PyTorch Framework\n",
    "A simple neural network model with PyTorch"
   ]
  },
  {
   "cell_type": "markdown",
   "metadata": {},
   "source": [
    "# Dataset\n",
    "Using Iris"
   ]
  },
  {
   "cell_type": "code",
   "execution_count": 32,
   "metadata": {},
   "outputs": [],
   "source": [
    "from sklearn.datasets import load_iris\n",
    "iris = load_iris()\n",
    "X = iris.data\n",
    "y = iris.target"
   ]
  },
  {
   "cell_type": "code",
   "execution_count": 33,
   "metadata": {},
   "outputs": [],
   "source": [
    "from sklearn.model_selection import train_test_split\n",
    "\n",
    "X_train, X_test, y_train, y_test = train_test_split(X, y, train_size=0.8, test_size=0.2, random_state=42)"
   ]
  },
  {
   "cell_type": "code",
   "execution_count": 34,
   "metadata": {},
   "outputs": [],
   "source": [
    "from sklearn.preprocessing import MinMaxScaler\n",
    "\n",
    "scaler = MinMaxScaler()\n",
    "\n",
    "scaler.fit(X_train)\n",
    "X_train = scaler.transform(X_train)\n",
    "X_test = scaler.transform(X_test)"
   ]
  },
  {
   "cell_type": "markdown",
   "metadata": {},
   "source": [
    "# Neural Network Model\n",
    "Using PyTorch"
   ]
  },
  {
   "cell_type": "code",
   "execution_count": 35,
   "metadata": {},
   "outputs": [],
   "source": [
    "import torch\n",
    "from torch import nn\n",
    "from torch.nn import functional as F"
   ]
  },
  {
   "cell_type": "markdown",
   "metadata": {},
   "source": [
    "## Preprocess\n",
    "Change the inputs into PyTorch Tensors"
   ]
  },
  {
   "cell_type": "code",
   "execution_count": 36,
   "metadata": {},
   "outputs": [],
   "source": [
    "X_train = torch.FloatTensor(X_train)\n",
    "X_test = torch.FloatTensor(X_test)\n",
    "y_train = torch.LongTensor(y_train)\n",
    "y_test = torch.LongTensor(y_test)"
   ]
  },
  {
   "cell_type": "code",
   "execution_count": 37,
   "metadata": {},
   "outputs": [],
   "source": [
    "class Model(nn.Module):\n",
    "    def __init__(self):\n",
    "        # Define Layers\n",
    "        super().__init__()\n",
    "        self.input_layer = nn.Linear(4, 25)\n",
    "        self.hidden_layer = nn.Linear(25, 30)\n",
    "        self.output_layer = nn.Linear(30, 3)\n",
    "        self.relu = nn.ReLU()\n",
    "\n",
    "    def forward(self, input):\n",
    "        # How the data is passed through\n",
    "        x = self.relu(self.input_layer(input))\n",
    "        x = self.relu(self.hidden_layer(x))\n",
    "        return self.output_layer(x)"
   ]
  },
  {
   "cell_type": "code",
   "execution_count": 38,
   "metadata": {},
   "outputs": [
    {
     "data": {
      "text/plain": [
       "Model(\n",
       "  (input_layer): Linear(in_features=4, out_features=25, bias=True)\n",
       "  (hidden_layer): Linear(in_features=25, out_features=30, bias=True)\n",
       "  (output_layer): Linear(in_features=30, out_features=3, bias=True)\n",
       "  (relu): ReLU()\n",
       ")"
      ]
     },
     "execution_count": 38,
     "metadata": {},
     "output_type": "execute_result"
    }
   ],
   "source": [
    "model = Model()\n",
    "model"
   ]
  },
  {
   "cell_type": "markdown",
   "metadata": {},
   "source": [
    "## Training\n",
    "We now the train the model with our data"
   ]
  },
  {
   "cell_type": "code",
   "execution_count": 39,
   "metadata": {},
   "outputs": [],
   "source": [
    "loss_func = nn.CrossEntropyLoss()\n",
    "optimizer = torch.optim.Adam(model.parameters(), lr=0.01)"
   ]
  },
  {
   "cell_type": "code",
   "execution_count": 40,
   "metadata": {},
   "outputs": [
    {
     "name": "stdout",
     "output_type": "stream",
     "text": [
      "Epoch 1/100, Train Loss: 1.0838\n",
      "Epoch 2/100, Train Loss: 1.0643\n",
      "Epoch 3/100, Train Loss: 1.0429\n",
      "Epoch 4/100, Train Loss: 1.0186\n",
      "Epoch 5/100, Train Loss: 0.9897\n",
      "Epoch 6/100, Train Loss: 0.9556\n",
      "Epoch 7/100, Train Loss: 0.9166\n",
      "Epoch 8/100, Train Loss: 0.8742\n",
      "Epoch 9/100, Train Loss: 0.8283\n",
      "Epoch 10/100, Train Loss: 0.7809\n",
      "Epoch 11/100, Train Loss: 0.7325\n",
      "Epoch 12/100, Train Loss: 0.6842\n",
      "Epoch 13/100, Train Loss: 0.6382\n",
      "Epoch 14/100, Train Loss: 0.5962\n",
      "Epoch 15/100, Train Loss: 0.5585\n",
      "Epoch 16/100, Train Loss: 0.5254\n",
      "Epoch 17/100, Train Loss: 0.4965\n",
      "Epoch 18/100, Train Loss: 0.4715\n",
      "Epoch 19/100, Train Loss: 0.4491\n",
      "Epoch 20/100, Train Loss: 0.4281\n",
      "Epoch 21/100, Train Loss: 0.4080\n",
      "Epoch 22/100, Train Loss: 0.3887\n",
      "Epoch 23/100, Train Loss: 0.3698\n",
      "Epoch 24/100, Train Loss: 0.3505\n",
      "Epoch 25/100, Train Loss: 0.3316\n",
      "Epoch 26/100, Train Loss: 0.3130\n",
      "Epoch 27/100, Train Loss: 0.2945\n",
      "Epoch 28/100, Train Loss: 0.2761\n",
      "Epoch 29/100, Train Loss: 0.2584\n",
      "Epoch 30/100, Train Loss: 0.2410\n",
      "Epoch 31/100, Train Loss: 0.2242\n",
      "Epoch 32/100, Train Loss: 0.2084\n",
      "Epoch 33/100, Train Loss: 0.1933\n",
      "Epoch 34/100, Train Loss: 0.1793\n",
      "Epoch 35/100, Train Loss: 0.1662\n",
      "Epoch 36/100, Train Loss: 0.1542\n",
      "Epoch 37/100, Train Loss: 0.1431\n",
      "Epoch 38/100, Train Loss: 0.1331\n",
      "Epoch 39/100, Train Loss: 0.1240\n",
      "Epoch 40/100, Train Loss: 0.1157\n",
      "Epoch 41/100, Train Loss: 0.1084\n",
      "Epoch 42/100, Train Loss: 0.1017\n",
      "Epoch 43/100, Train Loss: 0.0958\n",
      "Epoch 44/100, Train Loss: 0.0906\n",
      "Epoch 45/100, Train Loss: 0.0859\n",
      "Epoch 46/100, Train Loss: 0.0817\n",
      "Epoch 47/100, Train Loss: 0.0780\n",
      "Epoch 48/100, Train Loss: 0.0747\n",
      "Epoch 49/100, Train Loss: 0.0718\n",
      "Epoch 50/100, Train Loss: 0.0692\n",
      "Epoch 51/100, Train Loss: 0.0670\n",
      "Epoch 52/100, Train Loss: 0.0650\n",
      "Epoch 53/100, Train Loss: 0.0633\n",
      "Epoch 54/100, Train Loss: 0.0618\n",
      "Epoch 55/100, Train Loss: 0.0605\n",
      "Epoch 56/100, Train Loss: 0.0593\n",
      "Epoch 57/100, Train Loss: 0.0583\n",
      "Epoch 58/100, Train Loss: 0.0574\n",
      "Epoch 59/100, Train Loss: 0.0567\n",
      "Epoch 60/100, Train Loss: 0.0560\n",
      "Epoch 61/100, Train Loss: 0.0554\n",
      "Epoch 62/100, Train Loss: 0.0549\n",
      "Epoch 63/100, Train Loss: 0.0545\n",
      "Epoch 64/100, Train Loss: 0.0541\n",
      "Epoch 65/100, Train Loss: 0.0537\n",
      "Epoch 66/100, Train Loss: 0.0533\n",
      "Epoch 67/100, Train Loss: 0.0530\n",
      "Epoch 68/100, Train Loss: 0.0528\n",
      "Epoch 69/100, Train Loss: 0.0525\n",
      "Epoch 70/100, Train Loss: 0.0522\n",
      "Epoch 71/100, Train Loss: 0.0520\n",
      "Epoch 72/100, Train Loss: 0.0517\n",
      "Epoch 73/100, Train Loss: 0.0515\n",
      "Epoch 74/100, Train Loss: 0.0513\n",
      "Epoch 75/100, Train Loss: 0.0511\n",
      "Epoch 76/100, Train Loss: 0.0508\n",
      "Epoch 77/100, Train Loss: 0.0506\n",
      "Epoch 78/100, Train Loss: 0.0504\n",
      "Epoch 79/100, Train Loss: 0.0503\n",
      "Epoch 80/100, Train Loss: 0.0501\n",
      "Epoch 81/100, Train Loss: 0.0499\n",
      "Epoch 82/100, Train Loss: 0.0497\n",
      "Epoch 83/100, Train Loss: 0.0496\n",
      "Epoch 84/100, Train Loss: 0.0495\n",
      "Epoch 85/100, Train Loss: 0.0493\n",
      "Epoch 86/100, Train Loss: 0.0492\n",
      "Epoch 87/100, Train Loss: 0.0491\n",
      "Epoch 88/100, Train Loss: 0.0490\n",
      "Epoch 89/100, Train Loss: 0.0489\n",
      "Epoch 90/100, Train Loss: 0.0488\n",
      "Epoch 91/100, Train Loss: 0.0487\n",
      "Epoch 92/100, Train Loss: 0.0486\n",
      "Epoch 93/100, Train Loss: 0.0486\n",
      "Epoch 94/100, Train Loss: 0.0485\n",
      "Epoch 95/100, Train Loss: 0.0484\n",
      "Epoch 96/100, Train Loss: 0.0484\n",
      "Epoch 97/100, Train Loss: 0.0483\n",
      "Epoch 98/100, Train Loss: 0.0482\n",
      "Epoch 99/100, Train Loss: 0.0482\n",
      "Epoch 100/100, Train Loss: 0.0481\n"
     ]
    }
   ],
   "source": [
    "epochs = 100\n",
    "learning_rate = 1e-3\n",
    "batch_size = 64\n",
    "\n",
    "for epoch in range(epochs):\n",
    "    model.train()\n",
    "\n",
    "    pred = model(X_train)\n",
    "    loss = loss_func(pred, y_train)\n",
    "\n",
    "    loss.backward()\n",
    "    optimizer.step()\n",
    "    optimizer.zero_grad()\n",
    "\n",
    "    print(f\"Epoch {epoch+1}/{epochs}, Train Loss: {loss.item():.4f}\")"
   ]
  },
  {
   "cell_type": "markdown",
   "metadata": {},
   "source": [
    "## Prediction"
   ]
  },
  {
   "cell_type": "code",
   "execution_count": 41,
   "metadata": {},
   "outputs": [],
   "source": [
    "y_pred = []\n",
    "for test in X_test:\n",
    "    y_pred.append(model.forward(test).argmax().item())"
   ]
  },
  {
   "cell_type": "code",
   "execution_count": 42,
   "metadata": {},
   "outputs": [
    {
     "data": {
      "text/plain": [
       "[1,\n",
       " 0,\n",
       " 2,\n",
       " 1,\n",
       " 1,\n",
       " 0,\n",
       " 1,\n",
       " 2,\n",
       " 1,\n",
       " 1,\n",
       " 2,\n",
       " 0,\n",
       " 0,\n",
       " 0,\n",
       " 0,\n",
       " 1,\n",
       " 2,\n",
       " 1,\n",
       " 1,\n",
       " 2,\n",
       " 0,\n",
       " 2,\n",
       " 0,\n",
       " 2,\n",
       " 2,\n",
       " 2,\n",
       " 2,\n",
       " 2,\n",
       " 0,\n",
       " 0]"
      ]
     },
     "execution_count": 42,
     "metadata": {},
     "output_type": "execute_result"
    }
   ],
   "source": [
    "y_pred"
   ]
  },
  {
   "cell_type": "code",
   "execution_count": 43,
   "metadata": {},
   "outputs": [
    {
     "data": {
      "text/plain": [
       "100.0"
      ]
     },
     "execution_count": 43,
     "metadata": {},
     "output_type": "execute_result"
    }
   ],
   "source": [
    "from sklearn.metrics import accuracy_score\n",
    "accuracy_score(y_test, y_pred)*100"
   ]
  }
 ],
 "metadata": {
  "kernelspec": {
   "display_name": "Python 3",
   "language": "python",
   "name": "python3"
  },
  "language_info": {
   "codemirror_mode": {
    "name": "ipython",
    "version": 3
   },
   "file_extension": ".py",
   "mimetype": "text/x-python",
   "name": "python",
   "nbconvert_exporter": "python",
   "pygments_lexer": "ipython3",
   "version": "3.11.1"
  }
 },
 "nbformat": 4,
 "nbformat_minor": 2
}
