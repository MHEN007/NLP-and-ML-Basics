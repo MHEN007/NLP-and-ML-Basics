{
 "cells": [
  {
   "cell_type": "markdown",
   "metadata": {},
   "source": [
    "# PyTorch Framework\n",
    "A simple neural network model with PyTorch"
   ]
  },
  {
   "cell_type": "markdown",
   "metadata": {},
   "source": [
    "# Dataset\n",
    "Using Iris"
   ]
  },
  {
   "cell_type": "code",
   "execution_count": 1,
   "metadata": {},
   "outputs": [],
   "source": [
    "from sklearn.datasets import load_iris\n",
    "iris = load_iris()\n",
    "X = iris.data\n",
    "y = iris.target"
   ]
  },
  {
   "cell_type": "code",
   "execution_count": 2,
   "metadata": {},
   "outputs": [],
   "source": [
    "from sklearn.model_selection import train_test_split\n",
    "\n",
    "X_train, X_test, y_train, y_test = train_test_split(X, y, train_size=0.8, test_size=0.2, random_state=42)"
   ]
  },
  {
   "cell_type": "code",
   "execution_count": 3,
   "metadata": {},
   "outputs": [],
   "source": [
    "from sklearn.preprocessing import MinMaxScaler\n",
    "\n",
    "scaler = MinMaxScaler()\n",
    "\n",
    "scaler.fit(X_train)\n",
    "X_train = scaler.transform(X_train)\n",
    "X_test = scaler.transform(X_test)"
   ]
  },
  {
   "cell_type": "markdown",
   "metadata": {},
   "source": [
    "# Neural Network Model\n",
    "Using PyTorch"
   ]
  },
  {
   "cell_type": "code",
   "execution_count": 4,
   "metadata": {},
   "outputs": [],
   "source": [
    "import torch\n",
    "from torch import nn\n",
    "from torch.nn import functional as F"
   ]
  },
  {
   "cell_type": "markdown",
   "metadata": {},
   "source": [
    "## Preprocess\n",
    "Change the inputs into PyTorch Tensors"
   ]
  },
  {
   "cell_type": "code",
   "execution_count": 5,
   "metadata": {},
   "outputs": [],
   "source": [
    "X_train = torch.FloatTensor(X_train)\n",
    "X_test = torch.FloatTensor(X_test)\n",
    "y_train = torch.LongTensor(y_train)\n",
    "y_test = torch.LongTensor(y_test)"
   ]
  },
  {
   "cell_type": "code",
   "execution_count": 6,
   "metadata": {},
   "outputs": [],
   "source": [
    "class Model(nn.Module):\n",
    "    def __init__(self):\n",
    "        # Define Layers\n",
    "        super().__init__()\n",
    "        self.input_layer = nn.Linear(4, 25)\n",
    "        self.hidden_layer = nn.Linear(25, 30)\n",
    "        self.output_layer = nn.Linear(30, 3)\n",
    "        self.relu = nn.ReLU()\n",
    "        self.softmax = nn.Softmax()\n",
    "\n",
    "    def forward(self, input):\n",
    "        # How the data is passed through\n",
    "        x = self.relu(self.input_layer(input))\n",
    "        x = self.relu(self.hidden_layer(x))\n",
    "        return self.softmax(self.output_layer(x))"
   ]
  },
  {
   "cell_type": "code",
   "execution_count": 7,
   "metadata": {},
   "outputs": [
    {
     "data": {
      "text/plain": [
       "Model(\n",
       "  (input_layer): Linear(in_features=4, out_features=25, bias=True)\n",
       "  (hidden_layer): Linear(in_features=25, out_features=30, bias=True)\n",
       "  (output_layer): Linear(in_features=30, out_features=3, bias=True)\n",
       "  (relu): ReLU()\n",
       "  (softmax): Softmax(dim=None)\n",
       ")"
      ]
     },
     "execution_count": 7,
     "metadata": {},
     "output_type": "execute_result"
    }
   ],
   "source": [
    "model = Model()\n",
    "model"
   ]
  },
  {
   "cell_type": "markdown",
   "metadata": {},
   "source": [
    "## Training\n",
    "We now the train the model with our data"
   ]
  },
  {
   "cell_type": "code",
   "execution_count": 8,
   "metadata": {},
   "outputs": [
    {
     "name": "stderr",
     "output_type": "stream",
     "text": [
      "c:\\Users\\Matthew\\AppData\\Local\\Programs\\Python\\Python311\\Lib\\site-packages\\tqdm\\auto.py:21: TqdmWarning: IProgress not found. Please update jupyter and ipywidgets. See https://ipywidgets.readthedocs.io/en/stable/user_install.html\n",
      "  from .autonotebook import tqdm as notebook_tqdm\n"
     ]
    }
   ],
   "source": [
    "loss_func = nn.CrossEntropyLoss()\n",
    "optimizer = torch.optim.Adam(model.parameters(), lr=0.01)"
   ]
  },
  {
   "cell_type": "code",
   "execution_count": 9,
   "metadata": {},
   "outputs": [
    {
     "name": "stdout",
     "output_type": "stream",
     "text": [
      "Epoch 1/100, Train Loss: 1.0991\n",
      "Epoch 2/100, Train Loss: 1.0930\n",
      "Epoch 3/100, Train Loss: 1.0860\n",
      "Epoch 4/100, Train Loss: 1.0783\n",
      "Epoch 5/100, Train Loss: 1.0694\n",
      "Epoch 6/100, Train Loss: 1.0588\n",
      "Epoch 7/100, Train Loss: 1.0459\n",
      "Epoch 8/100, Train Loss: 1.0305\n",
      "Epoch 9/100, Train Loss: 1.0127\n",
      "Epoch 10/100, Train Loss: 0.9926\n",
      "Epoch 11/100, Train Loss: 0.9712\n",
      "Epoch 12/100, Train Loss: 0.9496\n",
      "Epoch 13/100, Train Loss: 0.9283\n",
      "Epoch 14/100, Train Loss: 0.9077\n",
      "Epoch 15/100, Train Loss: 0.8885\n",
      "Epoch 16/100, Train Loss: 0.8710\n",
      "Epoch 17/100, Train Loss: 0.8556\n",
      "Epoch 18/100, Train Loss: 0.8428\n",
      "Epoch 19/100, Train Loss: 0.8324\n",
      "Epoch 20/100, Train Loss: 0.8240\n",
      "Epoch 21/100, Train Loss: 0.8171\n",
      "Epoch 22/100, Train Loss: 0.8109\n",
      "Epoch 23/100, Train Loss: 0.8048\n",
      "Epoch 24/100, Train Loss: 0.7985\n",
      "Epoch 25/100, Train Loss: 0.7920\n",
      "Epoch 26/100, Train Loss: 0.7855\n",
      "Epoch 27/100, Train Loss: 0.7792\n",
      "Epoch 28/100, Train Loss: 0.7731\n",
      "Epoch 29/100, Train Loss: 0.7668\n",
      "Epoch 30/100, Train Loss: 0.7596\n",
      "Epoch 31/100, Train Loss: 0.7516\n",
      "Epoch 32/100, Train Loss: 0.7435\n",
      "Epoch 33/100, Train Loss: 0.7359\n",
      "Epoch 34/100, Train Loss: 0.7286\n",
      "Epoch 35/100, Train Loss: 0.7206\n",
      "Epoch 36/100, Train Loss: 0.7119\n",
      "Epoch 37/100, Train Loss: 0.7038\n",
      "Epoch 38/100, Train Loss: 0.6962\n",
      "Epoch 39/100, Train Loss: 0.6879\n",
      "Epoch 40/100, Train Loss: 0.6792\n",
      "Epoch 41/100, Train Loss: 0.6715\n",
      "Epoch 42/100, Train Loss: 0.6644\n",
      "Epoch 43/100, Train Loss: 0.6573\n",
      "Epoch 44/100, Train Loss: 0.6508\n",
      "Epoch 45/100, Train Loss: 0.6450\n",
      "Epoch 46/100, Train Loss: 0.6391\n",
      "Epoch 47/100, Train Loss: 0.6338\n",
      "Epoch 48/100, Train Loss: 0.6292\n",
      "Epoch 49/100, Train Loss: 0.6246\n",
      "Epoch 50/100, Train Loss: 0.6205\n",
      "Epoch 51/100, Train Loss: 0.6169\n",
      "Epoch 52/100, Train Loss: 0.6134\n",
      "Epoch 53/100, Train Loss: 0.6102\n",
      "Epoch 54/100, Train Loss: 0.6075\n",
      "Epoch 55/100, Train Loss: 0.6049\n",
      "Epoch 56/100, Train Loss: 0.6025\n",
      "Epoch 57/100, Train Loss: 0.6004\n",
      "Epoch 58/100, Train Loss: 0.5984\n",
      "Epoch 59/100, Train Loss: 0.5965\n",
      "Epoch 60/100, Train Loss: 0.5949\n",
      "Epoch 61/100, Train Loss: 0.5934\n",
      "Epoch 62/100, Train Loss: 0.5920\n",
      "Epoch 63/100, Train Loss: 0.5908\n",
      "Epoch 64/100, Train Loss: 0.5896\n",
      "Epoch 65/100, Train Loss: 0.5886\n",
      "Epoch 66/100, Train Loss: 0.5877\n",
      "Epoch 67/100, Train Loss: 0.5869\n",
      "Epoch 68/100, Train Loss: 0.5861\n",
      "Epoch 69/100, Train Loss: 0.5854\n",
      "Epoch 70/100, Train Loss: 0.5848\n",
      "Epoch 71/100, Train Loss: 0.5843\n",
      "Epoch 72/100, Train Loss: 0.5838\n",
      "Epoch 73/100, Train Loss: 0.5834\n",
      "Epoch 74/100, Train Loss: 0.5830\n",
      "Epoch 75/100, Train Loss: 0.5826\n",
      "Epoch 76/100, Train Loss: 0.5823\n",
      "Epoch 77/100, Train Loss: 0.5820\n",
      "Epoch 78/100, Train Loss: 0.5817\n",
      "Epoch 79/100, Train Loss: 0.5815\n",
      "Epoch 80/100, Train Loss: 0.5813\n",
      "Epoch 81/100, Train Loss: 0.5811\n",
      "Epoch 82/100, Train Loss: 0.5809\n",
      "Epoch 83/100, Train Loss: 0.5807\n",
      "Epoch 84/100, Train Loss: 0.5805\n",
      "Epoch 85/100, Train Loss: 0.5803\n",
      "Epoch 86/100, Train Loss: 0.5801\n",
      "Epoch 87/100, Train Loss: 0.5799\n",
      "Epoch 88/100, Train Loss: 0.5798\n",
      "Epoch 89/100, Train Loss: 0.5796\n",
      "Epoch 90/100, Train Loss: 0.5794\n",
      "Epoch 91/100, Train Loss: 0.5793\n",
      "Epoch 92/100, Train Loss: 0.5791\n",
      "Epoch 93/100, Train Loss: 0.5790\n",
      "Epoch 94/100, Train Loss: 0.5788\n",
      "Epoch 95/100, Train Loss: 0.5786\n",
      "Epoch 96/100, Train Loss: 0.5785\n",
      "Epoch 97/100, Train Loss: 0.5783\n",
      "Epoch 98/100, Train Loss: 0.5782\n",
      "Epoch 99/100, Train Loss: 0.5780\n",
      "Epoch 100/100, Train Loss: 0.5779\n"
     ]
    },
    {
     "name": "stderr",
     "output_type": "stream",
     "text": [
      "c:\\Users\\Matthew\\AppData\\Local\\Programs\\Python\\Python311\\Lib\\site-packages\\torch\\nn\\modules\\module.py:1518: UserWarning: Implicit dimension choice for softmax has been deprecated. Change the call to include dim=X as an argument.\n",
      "  return self._call_impl(*args, **kwargs)\n"
     ]
    }
   ],
   "source": [
    "epochs = 100\n",
    "\n",
    "for epoch in range(epochs):\n",
    "    model.train()\n",
    "\n",
    "    pred = model(X_train)\n",
    "    loss = loss_func(pred, y_train)\n",
    "\n",
    "    loss.backward()\n",
    "    optimizer.step()\n",
    "    optimizer.zero_grad()\n",
    "\n",
    "    print(f\"Epoch {epoch+1}/{epochs}, Train Loss: {loss.item():.4f}\")"
   ]
  },
  {
   "cell_type": "markdown",
   "metadata": {},
   "source": [
    "## Prediction"
   ]
  },
  {
   "cell_type": "code",
   "execution_count": 10,
   "metadata": {},
   "outputs": [
    {
     "data": {
      "text/plain": [
       "tensor([[1.6638e-04, 9.9941e-01, 4.2107e-04],\n",
       "        [9.9987e-01, 1.3031e-04, 5.8284e-18],\n",
       "        [3.4034e-12, 2.0744e-07, 1.0000e+00],\n",
       "        [1.9571e-04, 9.9291e-01, 6.8947e-03],\n",
       "        [8.8401e-05, 9.9460e-01, 5.3121e-03],\n",
       "        [9.9954e-01, 4.6124e-04, 2.8902e-16],\n",
       "        [7.8658e-04, 9.9921e-01, 8.1475e-06],\n",
       "        [2.4149e-08, 2.9567e-04, 9.9970e-01],\n",
       "        [6.7151e-05, 3.2432e-01, 6.7561e-01],\n",
       "        [3.4560e-04, 9.9963e-01, 2.1161e-05],\n",
       "        [4.0293e-06, 3.7014e-02, 9.6298e-01],\n",
       "        [9.9970e-01, 2.9943e-04, 3.6641e-16],\n",
       "        [9.9993e-01, 7.4439e-05, 3.4546e-18],\n",
       "        [9.9972e-01, 2.8448e-04, 2.2055e-16],\n",
       "        [9.9993e-01, 7.4609e-05, 8.0619e-18],\n",
       "        [1.2740e-04, 9.9754e-01, 2.3281e-03],\n",
       "        [1.7573e-09, 1.8898e-05, 9.9998e-01],\n",
       "        [3.8882e-04, 9.9958e-01, 3.0708e-05],\n",
       "        [2.5733e-04, 9.9856e-01, 1.1847e-03],\n",
       "        [1.6803e-09, 1.5402e-05, 9.9998e-01],\n",
       "        [9.9963e-01, 3.7251e-04, 7.2743e-16],\n",
       "        [3.8657e-05, 2.2910e-01, 7.7086e-01],\n",
       "        [9.9943e-01, 5.7306e-04, 1.1303e-15],\n",
       "        [3.5682e-09, 3.0766e-05, 9.9997e-01],\n",
       "        [5.0997e-07, 2.8344e-02, 9.7166e-01],\n",
       "        [7.0350e-09, 7.1474e-05, 9.9993e-01],\n",
       "        [7.3660e-09, 8.0718e-05, 9.9992e-01],\n",
       "        [1.1379e-09, 1.7082e-05, 9.9998e-01],\n",
       "        [9.9930e-01, 7.0381e-04, 3.3725e-15],\n",
       "        [9.9946e-01, 5.4481e-04, 1.2979e-15]], grad_fn=<SoftmaxBackward0>)"
      ]
     },
     "execution_count": 10,
     "metadata": {},
     "output_type": "execute_result"
    }
   ],
   "source": [
    "model.forward(X_test)"
   ]
  },
  {
   "cell_type": "code",
   "execution_count": 11,
   "metadata": {},
   "outputs": [],
   "source": [
    "y_pred = []\n",
    "for test in X_test:\n",
    "    y_pred.append(model.forward(test).argmax().item())"
   ]
  },
  {
   "cell_type": "code",
   "execution_count": 12,
   "metadata": {},
   "outputs": [
    {
     "data": {
      "text/plain": [
       "[1,\n",
       " 0,\n",
       " 2,\n",
       " 1,\n",
       " 1,\n",
       " 0,\n",
       " 1,\n",
       " 2,\n",
       " 2,\n",
       " 1,\n",
       " 2,\n",
       " 0,\n",
       " 0,\n",
       " 0,\n",
       " 0,\n",
       " 1,\n",
       " 2,\n",
       " 1,\n",
       " 1,\n",
       " 2,\n",
       " 0,\n",
       " 2,\n",
       " 0,\n",
       " 2,\n",
       " 2,\n",
       " 2,\n",
       " 2,\n",
       " 2,\n",
       " 0,\n",
       " 0]"
      ]
     },
     "execution_count": 12,
     "metadata": {},
     "output_type": "execute_result"
    }
   ],
   "source": [
    "y_pred"
   ]
  },
  {
   "cell_type": "code",
   "execution_count": 13,
   "metadata": {},
   "outputs": [
    {
     "data": {
      "text/plain": [
       "96.66666666666667"
      ]
     },
     "execution_count": 13,
     "metadata": {},
     "output_type": "execute_result"
    }
   ],
   "source": [
    "from sklearn.metrics import accuracy_score\n",
    "accuracy_score(y_test, y_pred)*100"
   ]
  }
 ],
 "metadata": {
  "kernelspec": {
   "display_name": "Python 3",
   "language": "python",
   "name": "python3"
  },
  "language_info": {
   "codemirror_mode": {
    "name": "ipython",
    "version": 3
   },
   "file_extension": ".py",
   "mimetype": "text/x-python",
   "name": "python",
   "nbconvert_exporter": "python",
   "pygments_lexer": "ipython3",
   "version": "3.11.1"
  }
 },
 "nbformat": 4,
 "nbformat_minor": 2
}
