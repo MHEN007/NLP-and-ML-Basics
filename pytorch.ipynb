{
 "cells": [
  {
   "cell_type": "markdown",
   "metadata": {},
   "source": [
    "# PyTorch Framework\n",
    "A simple neural network model with PyTorch"
   ]
  },
  {
   "cell_type": "markdown",
   "metadata": {},
   "source": [
    "# Dataset\n",
    "Using Iris"
   ]
  },
  {
   "cell_type": "code",
   "execution_count": 1,
   "metadata": {},
   "outputs": [],
   "source": [
    "from sklearn.datasets import load_iris\n",
    "iris = load_iris()\n",
    "X = iris.data\n",
    "y = iris.target"
   ]
  },
  {
   "cell_type": "code",
   "execution_count": 2,
   "metadata": {},
   "outputs": [],
   "source": [
    "from sklearn.model_selection import train_test_split\n",
    "\n",
    "X_train, X_test, y_train, y_test = train_test_split(X, y, train_size=0.8, test_size=0.2, random_state=42)"
   ]
  },
  {
   "cell_type": "code",
   "execution_count": 3,
   "metadata": {},
   "outputs": [],
   "source": [
    "from sklearn.preprocessing import MinMaxScaler\n",
    "\n",
    "scaler = MinMaxScaler()\n",
    "\n",
    "scaler.fit(X_train)\n",
    "X_train = scaler.transform(X_train)\n",
    "X_test = scaler.transform(X_test)"
   ]
  },
  {
   "cell_type": "markdown",
   "metadata": {},
   "source": [
    "# Neural Network Model\n",
    "Using PyTorch"
   ]
  },
  {
   "cell_type": "code",
   "execution_count": 4,
   "metadata": {},
   "outputs": [],
   "source": [
    "import torch\n",
    "from torch import nn\n",
    "from torch.nn import functional as F"
   ]
  },
  {
   "cell_type": "markdown",
   "metadata": {},
   "source": [
    "## Preprocess\n",
    "Change the inputs into PyTorch Tensors"
   ]
  },
  {
   "cell_type": "code",
   "execution_count": 5,
   "metadata": {},
   "outputs": [],
   "source": [
    "X_train = torch.FloatTensor(X_train)\n",
    "X_test = torch.FloatTensor(X_test)\n",
    "y_train = torch.LongTensor(y_train)\n",
    "y_test = torch.LongTensor(y_test)"
   ]
  },
  {
   "cell_type": "code",
   "execution_count": 6,
   "metadata": {},
   "outputs": [],
   "source": [
    "train_dataset = torch.utils.data.TensorDataset(X_train, y_train)\n",
    "test_dataset = torch.utils.data.TensorDataset(X_test, y_test)"
   ]
  },
  {
   "cell_type": "code",
   "execution_count": 7,
   "metadata": {},
   "outputs": [],
   "source": [
    "train_dataloader = torch.utils.data.DataLoader(train_dataset, batch_size=8)\n",
    "test_dataloader = torch.utils.data.DataLoader(test_dataset, batch_size=8)"
   ]
  },
  {
   "cell_type": "code",
   "execution_count": 8,
   "metadata": {},
   "outputs": [],
   "source": [
    "class Model(nn.Module):\n",
    "    def __init__(self):\n",
    "        # Define Layers\n",
    "        super().__init__()\n",
    "        self.input_layer = nn.Linear(4, 25)\n",
    "        self.hidden_layer = nn.Linear(25, 30)\n",
    "        self.output_layer = nn.Linear(30, 3)\n",
    "        self.relu = nn.ReLU()\n",
    "        self.softmax = nn.Softmax()\n",
    "\n",
    "    def forward(self, input):\n",
    "        # How the data is passed through\n",
    "        x = self.relu(self.input_layer(input))\n",
    "        x = self.relu(self.hidden_layer(x))\n",
    "        return self.softmax(self.output_layer(x))"
   ]
  },
  {
   "cell_type": "code",
   "execution_count": 9,
   "metadata": {},
   "outputs": [
    {
     "data": {
      "text/plain": [
       "Model(\n",
       "  (input_layer): Linear(in_features=4, out_features=25, bias=True)\n",
       "  (hidden_layer): Linear(in_features=25, out_features=30, bias=True)\n",
       "  (output_layer): Linear(in_features=30, out_features=3, bias=True)\n",
       "  (relu): ReLU()\n",
       "  (softmax): Softmax(dim=None)\n",
       ")"
      ]
     },
     "execution_count": 9,
     "metadata": {},
     "output_type": "execute_result"
    }
   ],
   "source": [
    "model = Model()\n",
    "model"
   ]
  },
  {
   "cell_type": "markdown",
   "metadata": {},
   "source": [
    "## Training\n",
    "We now the train the model with our data"
   ]
  },
  {
   "cell_type": "code",
   "execution_count": 10,
   "metadata": {},
   "outputs": [
    {
     "name": "stderr",
     "output_type": "stream",
     "text": [
      "c:\\Users\\Matthew\\AppData\\Local\\Programs\\Python\\Python311\\Lib\\site-packages\\tqdm\\auto.py:21: TqdmWarning: IProgress not found. Please update jupyter and ipywidgets. See https://ipywidgets.readthedocs.io/en/stable/user_install.html\n",
      "  from .autonotebook import tqdm as notebook_tqdm\n"
     ]
    }
   ],
   "source": [
    "loss_func = nn.CrossEntropyLoss()\n",
    "optimizer = torch.optim.Adam(model.parameters(), lr=0.01)"
   ]
  },
  {
   "cell_type": "code",
   "execution_count": 11,
   "metadata": {},
   "outputs": [
    {
     "name": "stderr",
     "output_type": "stream",
     "text": [
      "c:\\Users\\Matthew\\AppData\\Local\\Programs\\Python\\Python311\\Lib\\site-packages\\torch\\nn\\modules\\module.py:1518: UserWarning: Implicit dimension choice for softmax has been deprecated. Change the call to include dim=X as an argument.\n",
      "  return self._call_impl(*args, **kwargs)\n"
     ]
    },
    {
     "name": "stdout",
     "output_type": "stream",
     "text": [
      "Epoch 1/100, Train Loss: 1.0094\n",
      "Epoch 2/100, Train Loss: 0.8088\n",
      "Epoch 3/100, Train Loss: 0.7515\n",
      "Epoch 4/100, Train Loss: 0.6619\n",
      "Epoch 5/100, Train Loss: 0.6074\n",
      "Epoch 6/100, Train Loss: 0.5997\n",
      "Epoch 7/100, Train Loss: 0.6685\n",
      "Epoch 8/100, Train Loss: 0.6855\n",
      "Epoch 9/100, Train Loss: 0.6003\n",
      "Epoch 10/100, Train Loss: 0.6145\n",
      "Epoch 11/100, Train Loss: 0.5834\n",
      "Epoch 12/100, Train Loss: 0.5882\n",
      "Epoch 13/100, Train Loss: 0.5724\n",
      "Epoch 14/100, Train Loss: 0.5795\n",
      "Epoch 15/100, Train Loss: 0.5639\n",
      "Epoch 16/100, Train Loss: 0.5725\n",
      "Epoch 17/100, Train Loss: 0.5600\n",
      "Epoch 18/100, Train Loss: 0.5664\n",
      "Epoch 19/100, Train Loss: 0.5575\n",
      "Epoch 20/100, Train Loss: 0.5677\n",
      "Epoch 21/100, Train Loss: 0.5558\n",
      "Epoch 22/100, Train Loss: 0.5633\n",
      "Epoch 23/100, Train Loss: 0.5543\n",
      "Epoch 24/100, Train Loss: 0.5627\n",
      "Epoch 25/100, Train Loss: 0.5536\n",
      "Epoch 26/100, Train Loss: 0.5611\n",
      "Epoch 27/100, Train Loss: 0.5535\n",
      "Epoch 28/100, Train Loss: 0.5589\n",
      "Epoch 29/100, Train Loss: 0.5529\n",
      "Epoch 30/100, Train Loss: 0.5593\n",
      "Epoch 31/100, Train Loss: 0.5527\n",
      "Epoch 32/100, Train Loss: 0.5573\n",
      "Epoch 33/100, Train Loss: 0.5525\n",
      "Epoch 34/100, Train Loss: 0.5569\n",
      "Epoch 35/100, Train Loss: 0.5524\n",
      "Epoch 36/100, Train Loss: 0.5535\n",
      "Epoch 37/100, Train Loss: 0.5525\n",
      "Epoch 38/100, Train Loss: 0.6202\n",
      "Epoch 39/100, Train Loss: 0.5525\n",
      "Epoch 40/100, Train Loss: 0.5526\n",
      "Epoch 41/100, Train Loss: 0.5584\n",
      "Epoch 42/100, Train Loss: 0.5579\n",
      "Epoch 43/100, Train Loss: 0.5522\n",
      "Epoch 44/100, Train Loss: 0.5570\n",
      "Epoch 45/100, Train Loss: 0.5522\n",
      "Epoch 46/100, Train Loss: 0.5577\n",
      "Epoch 47/100, Train Loss: 0.5521\n",
      "Epoch 48/100, Train Loss: 0.5545\n",
      "Epoch 49/100, Train Loss: 0.5522\n",
      "Epoch 50/100, Train Loss: 0.7130\n",
      "Epoch 51/100, Train Loss: 0.5599\n",
      "Epoch 52/100, Train Loss: 0.5576\n",
      "Epoch 53/100, Train Loss: 0.5521\n",
      "Epoch 54/100, Train Loss: 0.5583\n",
      "Epoch 55/100, Train Loss: 0.5602\n",
      "Epoch 56/100, Train Loss: 0.6238\n",
      "Epoch 57/100, Train Loss: 0.5520\n",
      "Epoch 58/100, Train Loss: 0.6178\n",
      "Epoch 59/100, Train Loss: 0.5734\n",
      "Epoch 60/100, Train Loss: 0.5559\n",
      "Epoch 61/100, Train Loss: 0.5726\n",
      "Epoch 62/100, Train Loss: 0.5579\n",
      "Epoch 63/100, Train Loss: 0.5552\n",
      "Epoch 64/100, Train Loss: 0.5891\n",
      "Epoch 65/100, Train Loss: 0.5542\n",
      "Epoch 66/100, Train Loss: 0.5901\n",
      "Epoch 67/100, Train Loss: 0.5521\n",
      "Epoch 68/100, Train Loss: 0.5703\n",
      "Epoch 69/100, Train Loss: 0.5562\n",
      "Epoch 70/100, Train Loss: 0.5555\n",
      "Epoch 71/100, Train Loss: 0.5519\n",
      "Epoch 72/100, Train Loss: 0.6368\n",
      "Epoch 73/100, Train Loss: 0.5516\n",
      "Epoch 74/100, Train Loss: 0.5532\n",
      "Epoch 75/100, Train Loss: 0.5517\n",
      "Epoch 76/100, Train Loss: 0.5613\n",
      "Epoch 77/100, Train Loss: 0.5542\n",
      "Epoch 78/100, Train Loss: 0.5552\n",
      "Epoch 79/100, Train Loss: 0.5517\n",
      "Epoch 80/100, Train Loss: 0.5762\n",
      "Epoch 81/100, Train Loss: 0.5625\n",
      "Epoch 82/100, Train Loss: 0.5599\n",
      "Epoch 83/100, Train Loss: 0.5538\n",
      "Epoch 84/100, Train Loss: 0.5802\n",
      "Epoch 85/100, Train Loss: 0.5586\n",
      "Epoch 86/100, Train Loss: 0.5531\n",
      "Epoch 87/100, Train Loss: 0.5541\n",
      "Epoch 88/100, Train Loss: 0.5517\n",
      "Epoch 89/100, Train Loss: 0.5694\n",
      "Epoch 90/100, Train Loss: 0.5517\n",
      "Epoch 91/100, Train Loss: 0.5653\n",
      "Epoch 92/100, Train Loss: 0.5519\n",
      "Epoch 93/100, Train Loss: 0.6247\n",
      "Epoch 94/100, Train Loss: 0.5542\n",
      "Epoch 95/100, Train Loss: 0.5545\n",
      "Epoch 96/100, Train Loss: 0.5528\n",
      "Epoch 97/100, Train Loss: 0.5517\n",
      "Epoch 98/100, Train Loss: 0.5517\n",
      "Epoch 99/100, Train Loss: 0.5519\n",
      "Epoch 100/100, Train Loss: 0.5518\n"
     ]
    }
   ],
   "source": [
    "epochs = 100\n",
    "size = len(train_dataloader)\n",
    "\n",
    "for epoch in range(epochs):\n",
    "    for i, batch in enumerate(train_dataloader):\n",
    "        model.train()\n",
    "\n",
    "        pred = model(batch[0])\n",
    "        loss = loss_func(pred, batch[1])\n",
    "\n",
    "        loss.backward()\n",
    "        optimizer.step()\n",
    "        optimizer.zero_grad()\n",
    "\n",
    "    print(f\"Epoch {epoch+1}/{epochs}, Train Loss: {loss.item():.4f}\")"
   ]
  },
  {
   "cell_type": "markdown",
   "metadata": {},
   "source": [
    "## Prediction"
   ]
  },
  {
   "cell_type": "code",
   "execution_count": 12,
   "metadata": {},
   "outputs": [
    {
     "data": {
      "text/plain": [
       "tensor([[6.7358e-05, 9.9993e-01, 6.1203e-06],\n",
       "        [1.0000e+00, 1.3085e-09, 4.1973e-35],\n",
       "        [1.1022e-11, 1.8497e-07, 1.0000e+00],\n",
       "        [3.4566e-04, 9.9738e-01, 2.2756e-03],\n",
       "        [1.1140e-04, 9.9847e-01, 1.4206e-03],\n",
       "        [1.0000e+00, 3.0741e-08, 9.9968e-32],\n",
       "        [2.2488e-05, 9.9998e-01, 4.0579e-10],\n",
       "        [3.0382e-08, 3.0620e-05, 9.9997e-01],\n",
       "        [9.8533e-05, 1.0733e-01, 8.9257e-01],\n",
       "        [2.5022e-05, 9.9997e-01, 7.2972e-09],\n",
       "        [3.0437e-07, 1.3925e-04, 9.9986e-01],\n",
       "        [1.0000e+00, 4.5206e-08, 5.5232e-32],\n",
       "        [1.0000e+00, 2.3423e-09, 1.7043e-35],\n",
       "        [1.0000e+00, 2.5468e-08, 2.0304e-32],\n",
       "        [1.0000e+00, 3.5288e-10, 2.4636e-35],\n",
       "        [1.7193e-04, 9.9942e-01, 4.0738e-04],\n",
       "        [1.1033e-08, 1.5952e-05, 9.9998e-01],\n",
       "        [3.1656e-05, 9.9997e-01, 1.2863e-08],\n",
       "        [1.6302e-04, 9.9980e-01, 3.5386e-05],\n",
       "        [1.5567e-08, 2.1059e-05, 9.9998e-01],\n",
       "        [1.0000e+00, 2.1919e-08, 1.9636e-31],\n",
       "        [1.9356e-06, 5.3007e-04, 9.9947e-01],\n",
       "        [1.0000e+00, 2.3992e-08, 6.1558e-31],\n",
       "        [2.1722e-08, 2.6247e-05, 9.9997e-01],\n",
       "        [2.6184e-09, 6.0907e-06, 9.9999e-01],\n",
       "        [2.6175e-08, 2.8177e-05, 9.9997e-01],\n",
       "        [9.1271e-09, 1.6002e-05, 9.9998e-01],\n",
       "        [4.7799e-09, 8.7402e-06, 9.9999e-01],\n",
       "        [1.0000e+00, 1.9855e-07, 9.0663e-30],\n",
       "        [1.0000e+00, 5.7143e-08, 7.8014e-31]], grad_fn=<SoftmaxBackward0>)"
      ]
     },
     "execution_count": 12,
     "metadata": {},
     "output_type": "execute_result"
    }
   ],
   "source": [
    "model.forward(X_test)"
   ]
  },
  {
   "cell_type": "code",
   "execution_count": 13,
   "metadata": {},
   "outputs": [],
   "source": [
    "y_pred = []\n",
    "for test in X_test:\n",
    "    y_pred.append(model.forward(test).argmax().item())"
   ]
  },
  {
   "cell_type": "code",
   "execution_count": 14,
   "metadata": {},
   "outputs": [
    {
     "data": {
      "text/plain": [
       "[1,\n",
       " 0,\n",
       " 2,\n",
       " 1,\n",
       " 1,\n",
       " 0,\n",
       " 1,\n",
       " 2,\n",
       " 2,\n",
       " 1,\n",
       " 2,\n",
       " 0,\n",
       " 0,\n",
       " 0,\n",
       " 0,\n",
       " 1,\n",
       " 2,\n",
       " 1,\n",
       " 1,\n",
       " 2,\n",
       " 0,\n",
       " 2,\n",
       " 0,\n",
       " 2,\n",
       " 2,\n",
       " 2,\n",
       " 2,\n",
       " 2,\n",
       " 0,\n",
       " 0]"
      ]
     },
     "execution_count": 14,
     "metadata": {},
     "output_type": "execute_result"
    }
   ],
   "source": [
    "y_pred"
   ]
  },
  {
   "cell_type": "code",
   "execution_count": 15,
   "metadata": {},
   "outputs": [
    {
     "data": {
      "text/plain": [
       "96.66666666666667"
      ]
     },
     "execution_count": 15,
     "metadata": {},
     "output_type": "execute_result"
    }
   ],
   "source": [
    "from sklearn.metrics import accuracy_score\n",
    "accuracy_score(y_test, y_pred)*100"
   ]
  }
 ],
 "metadata": {
  "kernelspec": {
   "display_name": "Python 3",
   "language": "python",
   "name": "python3"
  },
  "language_info": {
   "codemirror_mode": {
    "name": "ipython",
    "version": 3
   },
   "file_extension": ".py",
   "mimetype": "text/x-python",
   "name": "python",
   "nbconvert_exporter": "python",
   "pygments_lexer": "ipython3",
   "version": "3.11.1"
  }
 },
 "nbformat": 4,
 "nbformat_minor": 2
}
